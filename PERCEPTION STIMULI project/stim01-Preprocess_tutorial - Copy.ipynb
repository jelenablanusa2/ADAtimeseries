{
 "cells": [
  {
   "cell_type": "markdown",
   "id": "05260aa8",
   "metadata": {},
   "source": [
    "# # Installation: \n",
    "\n",
    "pip install QNPy"
   ]
  },
  {
   "cell_type": "markdown",
   "id": "5af543f0",
   "metadata": {},
   "source": [
    "# REQUIREMENTS"
   ]
  },
  {
   "cell_type": "markdown",
   "id": "68f573be",
   "metadata": {},
   "source": [
    "This package contain a requirements.txt file with all the requirements that need to be setisfied (mainly other packages) before you can use it as a single package. To install all requirements at once, you will need to:\n",
    "\n",
    "1. in command line navigate to the directory where you downloaded your package (where the requirements.txt file is)\n",
    "2. once you are there type:\n",
    "pip install -r requirements.txt\n",
    "\n",
    "You are redy to use QNPy package now"
   ]
  },
  {
   "cell_type": "markdown",
   "id": "7a71347f",
   "metadata": {},
   "source": [
    "# Preprocess"
   ]
  },
  {
   "cell_type": "markdown",
   "id": "c46b26ac",
   "metadata": {},
   "source": [
    "Before running this script, you must create the following folders in the directory where your Python notebook is located:\n",
    "1. ./Padded_lc/ -- folder for saving the backward padded light curves\n",
    "1. ./preproc/ --  folder for saving the transformed data"
   ]
  },
  {
   "cell_type": "code",
   "execution_count": 1,
   "id": "ed1a1a78",
   "metadata": {},
   "outputs": [],
   "source": [
    "#### EDIT ####\n",
    "#### checking if folders exist ##### and making new ones if not #####\n",
    "#### EDIT ####\n",
    "\n",
    "import os\n",
    "folders_needed = ['./Padded_lc/', './preproc/']\n",
    "\n",
    "for folder in folders_needed:\n",
    "    if not os.path.exists(folder):\n",
    "        os.makedirs(folder)\n",
    "    else: \n",
    "        print (f'- Folder - {folder} - already exists')"
   ]
  },
  {
   "cell_type": "code",
   "execution_count": 2,
   "id": "b513b8ee",
   "metadata": {},
   "outputs": [],
   "source": [
    "import QNPy #Importing the package\n",
    "\n",
    "from QNPy import Preprocess as pr #Importing Preprocess module from the package\n",
    "from QNPy.Preprocess import transform #importing the funcion transform for transformation the data\n",
    "from QNPy.Preprocess import * #importing all external packages from Preprocess"
   ]
  },
  {
   "cell_type": "code",
   "execution_count": 3,
   "id": "141e87a9",
   "metadata": {},
   "outputs": [],
   "source": [
    "#Importing the data. This can be done in any desired manner, but the data must contain:\n",
    "#mjd - MJD or time, mag-magnitude and magerr-magnitude error. \n",
    "# In this example we used pandas python package for importing the .csv data, but numpy can be used if the data is \n",
    "#in .txt file\n",
    "path = './timeseries3' #path to data\n",
    "csv_files = glob.glob(path + \"/*.csv\")\n",
    "df_list = (pd.read_csv(file) for file in csv_files)\n",
    "data = pd.concat(df_list, ignore_index=True)"
   ]
  },
  {
   "cell_type": "code",
   "execution_count": 4,
   "id": "0ba48b0b",
   "metadata": {},
   "outputs": [
    {
     "data": {
      "text/html": [
       "<div>\n",
       "<style scoped>\n",
       "    .dataframe tbody tr th:only-of-type {\n",
       "        vertical-align: middle;\n",
       "    }\n",
       "\n",
       "    .dataframe tbody tr th {\n",
       "        vertical-align: top;\n",
       "    }\n",
       "\n",
       "    .dataframe thead th {\n",
       "        text-align: right;\n",
       "    }\n",
       "</style>\n",
       "<table border=\"1\" class=\"dataframe\">\n",
       "  <thead>\n",
       "    <tr style=\"text-align: right;\">\n",
       "      <th></th>\n",
       "      <th>mjd</th>\n",
       "      <th>mag</th>\n",
       "      <th>magerr</th>\n",
       "    </tr>\n",
       "  </thead>\n",
       "  <tbody>\n",
       "    <tr>\n",
       "      <th>0</th>\n",
       "      <td>4</td>\n",
       "      <td>2629</td>\n",
       "      <td>0.05</td>\n",
       "    </tr>\n",
       "    <tr>\n",
       "      <th>1</th>\n",
       "      <td>5</td>\n",
       "      <td>275</td>\n",
       "      <td>0.05</td>\n",
       "    </tr>\n",
       "    <tr>\n",
       "      <th>2</th>\n",
       "      <td>9</td>\n",
       "      <td>237</td>\n",
       "      <td>0.05</td>\n",
       "    </tr>\n",
       "    <tr>\n",
       "      <th>3</th>\n",
       "      <td>11</td>\n",
       "      <td>360</td>\n",
       "      <td>0.05</td>\n",
       "    </tr>\n",
       "    <tr>\n",
       "      <th>4</th>\n",
       "      <td>13</td>\n",
       "      <td>315</td>\n",
       "      <td>0.05</td>\n",
       "    </tr>\n",
       "    <tr>\n",
       "      <th>...</th>\n",
       "      <td>...</td>\n",
       "      <td>...</td>\n",
       "      <td>...</td>\n",
       "    </tr>\n",
       "    <tr>\n",
       "      <th>4699</th>\n",
       "      <td>44</td>\n",
       "      <td>199</td>\n",
       "      <td>0.05</td>\n",
       "    </tr>\n",
       "    <tr>\n",
       "      <th>4700</th>\n",
       "      <td>47</td>\n",
       "      <td>674</td>\n",
       "      <td>0.05</td>\n",
       "    </tr>\n",
       "    <tr>\n",
       "      <th>4701</th>\n",
       "      <td>55</td>\n",
       "      <td>248</td>\n",
       "      <td>0.05</td>\n",
       "    </tr>\n",
       "    <tr>\n",
       "      <th>4702</th>\n",
       "      <td>58</td>\n",
       "      <td>289</td>\n",
       "      <td>0.05</td>\n",
       "    </tr>\n",
       "    <tr>\n",
       "      <th>4703</th>\n",
       "      <td>60</td>\n",
       "      <td>252</td>\n",
       "      <td>0.05</td>\n",
       "    </tr>\n",
       "  </tbody>\n",
       "</table>\n",
       "<p>4704 rows × 3 columns</p>\n",
       "</div>"
      ],
      "text/plain": [
       "      mjd   mag  magerr\n",
       "0       4  2629    0.05\n",
       "1       5   275    0.05\n",
       "2       9   237    0.05\n",
       "3      11   360    0.05\n",
       "4      13   315    0.05\n",
       "...   ...   ...     ...\n",
       "4699   44   199    0.05\n",
       "4700   47   674    0.05\n",
       "4701   55   248    0.05\n",
       "4702   58   289    0.05\n",
       "4703   60   252    0.05\n",
       "\n",
       "[4704 rows x 3 columns]"
      ]
     },
     "execution_count": 4,
     "metadata": {},
     "output_type": "execute_result"
    }
   ],
   "source": [
    "data"
   ]
  },
  {
   "cell_type": "code",
   "execution_count": 5,
   "id": "1cbbf9f0",
   "metadata": {},
   "outputs": [
    {
     "name": "stdout",
     "output_type": "stream",
     "text": [
      "Created new file: ./Padded_lc\\lepo_fb.csv\n",
      "Created new file: ./Padded_lc\\lepo_fw.csv\n",
      "Created new file: ./Padded_lc\\lepo_mb.csv\n",
      "Created new file: ./Padded_lc\\lepo_mw.csv\n",
      "Created new file: ./Padded_lc\\prijatno_fb.csv\n",
      "Created new file: ./Padded_lc\\prijatno_fw.csv\n",
      "Created new file: ./Padded_lc\\prijatno_mb.csv\n",
      "Created new file: ./Padded_lc\\prijatno_mw.csv\n",
      "Created new file: ./Padded_lc\\privlacno_fb.csv\n",
      "Created new file: ./Padded_lc\\privlacno_fw.csv\n",
      "Created new file: ./Padded_lc\\privlacno_mb.csv\n",
      "Created new file: ./Padded_lc\\privlacno_mw.csv\n",
      "Created new file: ./Padded_lc\\skladno_fb.csv\n",
      "Created new file: ./Padded_lc\\skladno_fw.csv\n",
      "Created new file: ./Padded_lc\\skladno_mb.csv\n",
      "Created new file: ./Padded_lc\\skladno_mw.csv\n"
     ]
    }
   ],
   "source": [
    "# Padding the light curves\n",
    "# We added the function for backward padding the curves with last observed value\n",
    "# The length for padding should remain 100 or above \n",
    "\n",
    "padding= pr.backward_pad_curves('./timeseries3', './Padded_lc', desired_observations=100)"
   ]
  },
  {
   "cell_type": "code",
   "execution_count": 6,
   "id": "07418c79",
   "metadata": {},
   "outputs": [],
   "source": [
    "#Path to Padded Data\n",
    "DATA_SRC = \"./Padded_lc\" \n",
    "#path to folder to save preproc data (transformed data) + errors\n",
    "DATA_DST = \"./preproc\" "
   ]
  },
  {
   "cell_type": "code",
   "execution_count": 7,
   "id": "fd252941",
   "metadata": {},
   "outputs": [],
   "source": [
    "#listing the data that are going to be transformed. \n",
    "#In case that your original data is in one table, this is not needed\n",
    "files = os.listdir(DATA_SRC) "
   ]
  },
  {
   "cell_type": "code",
   "execution_count": 8,
   "id": "61b408ac",
   "metadata": {},
   "outputs": [],
   "source": [
    "#running the transformation function\n",
    "number_of_points, trcoeff = pr.transform_and_save(files, DATA_SRC, DATA_DST, transform)"
   ]
  },
  {
   "cell_type": "code",
   "execution_count": null,
   "id": "d9e3df05",
   "metadata": {},
   "outputs": [],
   "source": []
  }
 ],
 "metadata": {
  "kernelspec": {
   "display_name": "Python 3 (ipykernel)",
   "language": "python",
   "name": "python3"
  },
  "language_info": {
   "codemirror_mode": {
    "name": "ipython",
    "version": 3
   },
   "file_extension": ".py",
   "mimetype": "text/x-python",
   "name": "python",
   "nbconvert_exporter": "python",
   "pygments_lexer": "ipython3",
   "version": "3.9.13"
  }
 },
 "nbformat": 4,
 "nbformat_minor": 5
}
