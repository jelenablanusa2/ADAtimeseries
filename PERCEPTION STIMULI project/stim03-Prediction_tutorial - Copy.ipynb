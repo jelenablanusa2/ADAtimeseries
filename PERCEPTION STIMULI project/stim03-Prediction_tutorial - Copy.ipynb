{
 "cells": [
  {
   "cell_type": "markdown",
   "id": "25802435",
   "metadata": {},
   "source": [
    "# Prediction "
   ]
  },
  {
   "cell_type": "markdown",
   "id": "a54e796d",
   "metadata": {},
   "source": [
    "Before running this script, you must create the following folders in the directory where your Python notebook is located:\n",
    "1. ./output/predictions/train/plots -- folder for saving training plots\n",
    "2. ./output/predictions/test/plots -- folder for saving test plots \n",
    "3. ./output/predictions/val/plots -- folder for saving validation plots\n",
    "4. ./output/predictions/train/data -- folder for sving train data\n",
    "5. ./output/predictions/test/data -- folder for saving test data\n",
    "6. ./output/predictions/val/data -- folder for saving val data"
   ]
  },
  {
   "cell_type": "code",
   "execution_count": 51,
   "id": "737747fd",
   "metadata": {},
   "outputs": [],
   "source": [
    "#### EDIT ####\n",
    "#### checking if folders exist ##### and making new ones if not #####\n",
    "#### EDIT ####\n",
    "\n",
    "import os\n",
    "folders_needed = ['./output/predictions/train/plots', './output/predictions/test/plots', './output/predictions/val/plots', \n",
    "                  './output/predictions/train/data', './output/predictions/test/data', './output/predictions/val/data']\n",
    "\n",
    "for folder in folders_needed:\n",
    "    if not os.path.exists(folder):\n",
    "        os.makedirs(folder)\n",
    "    else: \n",
    "        print (f'- Folder - {folder} - already exists')"
   ]
  },
  {
   "cell_type": "code",
   "execution_count": 52,
   "id": "0f2ecec2",
   "metadata": {},
   "outputs": [],
   "source": [
    "import QNPy #Importing the package\n",
    "from QNPy import PREDICTION as pr #Importing PREDICTION module from the package\n",
    "from QNPy.PREDICTION import * #Importing all packages from PREDICTION module\n",
    "from QNPy.PREDICTION import plot_function #The functions plot_function must be imported separately"
   ]
  },
  {
   "cell_type": "code",
   "execution_count": 53,
   "id": "b484e3b7",
   "metadata": {},
   "outputs": [
    {
     "data": {
      "text/plain": [
       "device(type='cpu')"
      ]
     },
     "execution_count": 53,
     "metadata": {},
     "output_type": "execute_result"
    }
   ],
   "source": [
    "#defining the device, it can be cpu of cuda\n",
    "device = torch.device(\"cuda\" if torch.cuda.is_available() else \"cpu\")\n",
    "device"
   ]
  },
  {
   "cell_type": "code",
   "execution_count": 54,
   "id": "2c539d98",
   "metadata": {},
   "outputs": [],
   "source": [
    "DATA_PATH_TRAIN = \"./dataset/train\" #path to train folder\n",
    "DATA_PATH_VAL = \"./dataset/val\" #path to val folder\n",
    "DATA_PATH_TEST=\"./dataset/test\" #path to test folder\n",
    "OUTPUT_PATH = \"./output/predictions\" #path where to save the plots and data\n",
    "\n",
    "MODEL_PATH = \"./output/cnp_model.pth\" #path to saved model"
   ]
  },
  {
   "cell_type": "code",
   "execution_count": 55,
   "id": "41e4f5e4",
   "metadata": {},
   "outputs": [],
   "source": [
    "pr.prepare_output_dir(OUTPUT_PATH)#clearing outputh dir, it can be sciped"
   ]
  },
  {
   "cell_type": "code",
   "execution_count": 56,
   "id": "b5cc49b2",
   "metadata": {},
   "outputs": [],
   "source": [
    "model = pr.load_trained_model(MODEL_PATH, device) #loading the model"
   ]
  },
  {
   "cell_type": "code",
   "execution_count": 57,
   "id": "6fed08cf",
   "metadata": {},
   "outputs": [],
   "source": [
    "criterion, mseMetric= pr.get_criteria()#loading criterion and metrics from model"
   ]
  },
  {
   "cell_type": "code",
   "execution_count": 58,
   "id": "7a57dbc1",
   "metadata": {},
   "outputs": [
    {
     "name": "stdout",
     "output_type": "stream",
     "text": [
      "Deleted file with 'minus' or 'plus' in the name: lepo_fb_plus_split2.csv\n",
      "Deleted file with 'minus' or 'plus' in the name: prijatno_fb_minus_split12.csv\n",
      "Deleted file with 'minus' or 'plus' in the name: privlacno_fw_plus_split29.csv\n",
      "Removed padding in file: privlacno_mb_original_split31.csv\n",
      "Deleted file with 'minus' or 'plus' in the name: privlacno_mb_plus_split32.csv\n",
      "Deleted file with 'minus' or 'plus' in the name: skladno_fb_plus_split38.csv\n",
      "Deleted file with 'minus' or 'plus' in the name: skladno_fw_minus_split39.csv\n",
      "Removed padding in file: skladno_fw_original_split40.csv\n"
     ]
    }
   ],
   "source": [
    "#deleting the padded values from test set\n",
    "#deleting the curves that we add with plus and minus errors\n",
    "#filtering the original curves for plotting\n",
    "\n",
    "if __name__ == \"__main__\":\n",
    "    folder_path = \"./dataset/test\"  # Change this to your dataset folder\n",
    "\n",
    "    pr.remove_padded_values_and_filter(folder_path)"
   ]
  },
  {
   "cell_type": "code",
   "execution_count": 59,
   "id": "ce773815",
   "metadata": {},
   "outputs": [
    {
     "name": "stdout",
     "output_type": "stream",
     "text": [
      "Deleted file with 'minus' or 'plus' in the name: lepo_fb_minus_split0.csv\n",
      "Deleted file with 'minus' or 'plus' in the name: lepo_fw_minus_split3.csv\n",
      "Removed padding in file: lepo_fw_original_split4.csv\n",
      "Deleted file with 'minus' or 'plus' in the name: lepo_fw_plus_split5.csv\n",
      "Deleted file with 'minus' or 'plus' in the name: lepo_mb_minus_split6.csv\n",
      "Deleted file with 'minus' or 'plus' in the name: lepo_mb_plus_split8.csv\n",
      "Deleted file with 'minus' or 'plus' in the name: lepo_mw_minus_split9.csv\n",
      "Removed padding in file: lepo_mw_original_split10.csv\n",
      "Deleted file with 'minus' or 'plus' in the name: lepo_mw_plus_split11.csv\n",
      "Removed padding in file: prijatno_fb_original_split13.csv\n",
      "Deleted file with 'minus' or 'plus' in the name: prijatno_fw_minus_split15.csv\n",
      "Removed padding in file: prijatno_fw_original_split16.csv\n",
      "Deleted file with 'minus' or 'plus' in the name: prijatno_fw_plus_split17.csv\n",
      "Deleted file with 'minus' or 'plus' in the name: prijatno_mb_minus_split18.csv\n",
      "Removed padding in file: prijatno_mb_original_split19.csv\n",
      "Deleted file with 'minus' or 'plus' in the name: prijatno_mb_plus_split20.csv\n",
      "Deleted file with 'minus' or 'plus' in the name: prijatno_mw_minus_split21.csv\n",
      "Removed padding in file: prijatno_mw_original_split22.csv\n",
      "Deleted file with 'minus' or 'plus' in the name: prijatno_mw_plus_split23.csv\n",
      "Deleted file with 'minus' or 'plus' in the name: privlacno_fb_minus_split24.csv\n",
      "Removed padding in file: privlacno_fb_original_split25.csv\n",
      "Deleted file with 'minus' or 'plus' in the name: privlacno_fb_plus_split26.csv\n",
      "Deleted file with 'minus' or 'plus' in the name: privlacno_fw_minus_split27.csv\n",
      "Removed padding in file: privlacno_fw_original_split28.csv\n",
      "Removed padding in file: privlacno_mw_original_split34.csv\n",
      "Deleted file with 'minus' or 'plus' in the name: privlacno_mw_plus_split35.csv\n",
      "Deleted file with 'minus' or 'plus' in the name: skladno_fb_minus_split36.csv\n",
      "Removed padding in file: skladno_fb_original_split37.csv\n",
      "Deleted file with 'minus' or 'plus' in the name: skladno_fw_plus_split41.csv\n",
      "Removed padding in file: skladno_mb_original_split43.csv\n",
      "Deleted file with 'minus' or 'plus' in the name: skladno_mb_plus_split44.csv\n",
      "Deleted file with 'minus' or 'plus' in the name: skladno_mw_minus_split45.csv\n"
     ]
    }
   ],
   "source": [
    "#deleting the padded values from train set\n",
    "#deleting the curves that we add with plus and minus errors\n",
    "#filtering the original curves for plotting\n",
    "\n",
    "if __name__ == \"__main__\":\n",
    "    folder_path = \"./dataset/train\"  # Change this to your dataset folder\n",
    "\n",
    "    pr.remove_padded_values_and_filter(folder_path)"
   ]
  },
  {
   "cell_type": "code",
   "execution_count": 60,
   "id": "84a5975e",
   "metadata": {},
   "outputs": [
    {
     "name": "stdout",
     "output_type": "stream",
     "text": [
      "Removed padding in file: lepo_fb_original_split1.csv\n",
      "Removed padding in file: lepo_mb_original_split7.csv\n",
      "Deleted file with 'minus' or 'plus' in the name: prijatno_fb_plus_split14.csv\n",
      "Deleted file with 'minus' or 'plus' in the name: privlacno_mb_minus_split30.csv\n",
      "Deleted file with 'minus' or 'plus' in the name: privlacno_mw_minus_split33.csv\n",
      "Deleted file with 'minus' or 'plus' in the name: skladno_mb_minus_split42.csv\n",
      "Removed padding in file: skladno_mw_original_split46.csv\n",
      "Deleted file with 'minus' or 'plus' in the name: skladno_mw_plus_split47.csv\n"
     ]
    }
   ],
   "source": [
    "#deleting the padded values from val set\n",
    "#deleting the curves that we add with plus and minus errors\n",
    "#filtering the original curves for plotting\n",
    "\n",
    "if __name__ == \"__main__\":\n",
    "    folder_path = \"./dataset/val\"  # Change this to your dataset folder\n",
    "\n",
    "    pr.remove_padded_values_and_filter(folder_path)"
   ]
  },
  {
   "cell_type": "code",
   "execution_count": 61,
   "id": "cf6d3be0",
   "metadata": {},
   "outputs": [],
   "source": [
    "testLoader=pr.load_test_data(DATA_PATH_TEST)#loading test data"
   ]
  },
  {
   "cell_type": "code",
   "execution_count": 62,
   "id": "e67edc39",
   "metadata": {},
   "outputs": [],
   "source": [
    "trainLoader=pr.load_train_data(DATA_PATH_TRAIN)#loading trained data"
   ]
  },
  {
   "cell_type": "code",
   "execution_count": 63,
   "id": "717906f7",
   "metadata": {},
   "outputs": [],
   "source": [
    "valLoader=pr.load_val_data(DATA_PATH_VAL)#loading validation data"
   ]
  },
  {
   "cell_type": "code",
   "execution_count": 64,
   "id": "fae77b66",
   "metadata": {},
   "outputs": [
    {
     "name": "stderr",
     "output_type": "stream",
     "text": [
      "100%|████████████████████████████████████████████████████████████████████████████████████| 2/2 [00:00<00:00,  2.36it/s]\n"
     ]
    },
    {
     "data": {
      "text/plain": [
       "<Figure size 640x480 with 0 Axes>"
      ]
     },
     "metadata": {},
     "output_type": "display_data"
    }
   ],
   "source": [
    "#prediction and plotting the test data\n",
    "testMetrics=pr.plot_light_curves_from_test_set(model, testLoader, criterion, mseMetric, plot_function, device)"
   ]
  },
  {
   "cell_type": "code",
   "execution_count": 65,
   "id": "b9d0fcf8",
   "metadata": {},
   "outputs": [],
   "source": [
    "saveTestMetric=pr.save_test_metrics('./output/predictions/', testMetrics)#saving the test Metrics"
   ]
  },
  {
   "cell_type": "code",
   "execution_count": 66,
   "id": "20d64c3e",
   "metadata": {},
   "outputs": [
    {
     "name": "stderr",
     "output_type": "stream",
     "text": [
      "100%|██████████████████████████████████████████████████████████████████████████████████| 11/11 [00:03<00:00,  2.98it/s]\n"
     ]
    },
    {
     "data": {
      "text/plain": [
       "<Figure size 640x480 with 0 Axes>"
      ]
     },
     "metadata": {},
     "output_type": "display_data"
    }
   ],
   "source": [
    "#prediction and plotting the train data\n",
    "trainMetrics=pr.plot_light_curves_from_train_set(trainLoader, model, criterion, mseMetric, plot_function, device)"
   ]
  },
  {
   "cell_type": "code",
   "execution_count": 67,
   "id": "fb63ecaf",
   "metadata": {},
   "outputs": [],
   "source": [
    "saveTrainMetric=pr.save_train_metrics('./output/predictions/', trainMetrics)#saving the train metrics \n",
    "\n",
    "#### EDIT #####\n",
    "### variable trainMetric is changed to trainMetrics ###"
   ]
  },
  {
   "cell_type": "code",
   "execution_count": 68,
   "id": "a39ffd72",
   "metadata": {},
   "outputs": [
    {
     "name": "stderr",
     "output_type": "stream",
     "text": [
      "100%|████████████████████████████████████████████████████████████████████████████████████| 3/3 [00:01<00:00,  2.98it/s]\n"
     ]
    },
    {
     "data": {
      "text/plain": [
       "<Figure size 640x480 with 0 Axes>"
      ]
     },
     "metadata": {},
     "output_type": "display_data"
    }
   ],
   "source": [
    "#prediction and plotting the val data\n",
    "valMetric=pr.plot_light_curves_from_val_set(model, valLoader, criterion, mseMetric, plot_function, device)"
   ]
  },
  {
   "cell_type": "code",
   "execution_count": 69,
   "id": "f4b660c2",
   "metadata": {},
   "outputs": [],
   "source": [
    "saveValMetrics=pr.save_val_metrics('./output/predictions/', valMetric)#saving the val metrics "
   ]
  },
  {
   "cell_type": "code",
   "execution_count": null,
   "id": "7fd500e8",
   "metadata": {},
   "outputs": [],
   "source": []
  }
 ],
 "metadata": {
  "kernelspec": {
   "display_name": "Python 3 (ipykernel)",
   "language": "python",
   "name": "python3"
  },
  "language_info": {
   "codemirror_mode": {
    "name": "ipython",
    "version": 3
   },
   "file_extension": ".py",
   "mimetype": "text/x-python",
   "name": "python",
   "nbconvert_exporter": "python",
   "pygments_lexer": "ipython3",
   "version": "3.9.13"
  }
 },
 "nbformat": 4,
 "nbformat_minor": 5
}
