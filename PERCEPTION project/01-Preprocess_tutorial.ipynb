{
 "cells": [
  {
   "cell_type": "markdown",
   "id": "05260aa8",
   "metadata": {},
   "source": [
    "# # Installation: \n",
    "\n",
    "pip install QNPy"
   ]
  },
  {
   "cell_type": "markdown",
   "id": "5af543f0",
   "metadata": {},
   "source": [
    "# REQUIREMENTS"
   ]
  },
  {
   "cell_type": "markdown",
   "id": "68f573be",
   "metadata": {},
   "source": [
    "This package contain a requirements.txt file with all the requirements that need to be setisfied (mainly other packages) before you can use it as a single package. To install all requirements at once, you will need to:\n",
    "\n",
    "1. in command line navigate to the directory where you downloaded your package (where the requirements.txt file is)\n",
    "2. once you are there type:\n",
    "pip install -r requirements.txt\n",
    "\n",
    "You are redy to use QNPy package now"
   ]
  },
  {
   "cell_type": "markdown",
   "id": "7a71347f",
   "metadata": {},
   "source": [
    "# Preprocess"
   ]
  },
  {
   "cell_type": "markdown",
   "id": "c46b26ac",
   "metadata": {},
   "source": [
    "Before running this script, you must create the following folders in the directory where your Python notebook is located:\n",
    "1. ./Padded_lc/ -- folder for saving the backward padded light curves\n",
    "1. ./preproc/ --  folder for saving the transformed data"
   ]
  },
  {
   "cell_type": "code",
   "execution_count": 20,
   "id": "ed1a1a78",
   "metadata": {},
   "outputs": [],
   "source": [
    "#### EDIT ####\n",
    "#### checking if folders exist ##### and making new ones if not #####\n",
    "#### EDIT ####\n",
    "\n",
    "import os\n",
    "folders_needed = ['./Padded_lc/', './preproc/']\n",
    "\n",
    "for folder in folders_needed:\n",
    "    if not os.path.exists(folder):\n",
    "        os.makedirs(folder)\n",
    "    else: \n",
    "        print (f'- Folder - {folder} - already exists')"
   ]
  },
  {
   "cell_type": "code",
   "execution_count": 21,
   "id": "b513b8ee",
   "metadata": {},
   "outputs": [],
   "source": [
    "import QNPy #Importing the package\n",
    "\n",
    "from QNPy import Preprocess as pr #Importing Preprocess module from the package\n",
    "from QNPy.Preprocess import transform #importing the funcion transform for transformation the data\n",
    "from QNPy.Preprocess import * #importing all external packages from Preprocess"
   ]
  },
  {
   "cell_type": "code",
   "execution_count": 22,
   "id": "141e87a9",
   "metadata": {},
   "outputs": [],
   "source": [
    "#Importing the data. This can be done in any desired manner, but the data must contain:\n",
    "#mjd - MJD or time, mag-magnitude and magerr-magnitude error. \n",
    "# In this example we used pandas python package for importing the .csv data, but numpy can be used if the data is \n",
    "#in .txt file\n",
    "path = './timeseries' #path to data\n",
    "csv_files = glob.glob(path + \"/*.csv\")\n",
    "df_list = (pd.read_csv(file) for file in csv_files)\n",
    "data = pd.concat(df_list, ignore_index=True)"
   ]
  },
  {
   "cell_type": "code",
   "execution_count": 23,
   "id": "0ba48b0b",
   "metadata": {},
   "outputs": [
    {
     "data": {
      "text/html": [
       "<div>\n",
       "<style scoped>\n",
       "    .dataframe tbody tr th:only-of-type {\n",
       "        vertical-align: middle;\n",
       "    }\n",
       "\n",
       "    .dataframe tbody tr th {\n",
       "        vertical-align: top;\n",
       "    }\n",
       "\n",
       "    .dataframe thead th {\n",
       "        text-align: right;\n",
       "    }\n",
       "</style>\n",
       "<table border=\"1\" class=\"dataframe\">\n",
       "  <thead>\n",
       "    <tr style=\"text-align: right;\">\n",
       "      <th></th>\n",
       "      <th>mjd</th>\n",
       "      <th>mag</th>\n",
       "      <th>magerr</th>\n",
       "    </tr>\n",
       "  </thead>\n",
       "  <tbody>\n",
       "    <tr>\n",
       "      <th>0</th>\n",
       "      <td>291802</td>\n",
       "      <td>1383</td>\n",
       "      <td>0.05</td>\n",
       "    </tr>\n",
       "    <tr>\n",
       "      <th>1</th>\n",
       "      <td>302001</td>\n",
       "      <td>2057</td>\n",
       "      <td>0.05</td>\n",
       "    </tr>\n",
       "    <tr>\n",
       "      <th>2</th>\n",
       "      <td>314836</td>\n",
       "      <td>2329</td>\n",
       "      <td>0.05</td>\n",
       "    </tr>\n",
       "    <tr>\n",
       "      <th>3</th>\n",
       "      <td>325838</td>\n",
       "      <td>3764</td>\n",
       "      <td>0.05</td>\n",
       "    </tr>\n",
       "    <tr>\n",
       "      <th>4</th>\n",
       "      <td>338535</td>\n",
       "      <td>1653</td>\n",
       "      <td>0.05</td>\n",
       "    </tr>\n",
       "    <tr>\n",
       "      <th>...</th>\n",
       "      <td>...</td>\n",
       "      <td>...</td>\n",
       "      <td>...</td>\n",
       "    </tr>\n",
       "    <tr>\n",
       "      <th>4699</th>\n",
       "      <td>1350714</td>\n",
       "      <td>6221</td>\n",
       "      <td>0.05</td>\n",
       "    </tr>\n",
       "    <tr>\n",
       "      <th>4700</th>\n",
       "      <td>1368298</td>\n",
       "      <td>7331</td>\n",
       "      <td>0.05</td>\n",
       "    </tr>\n",
       "    <tr>\n",
       "      <th>4701</th>\n",
       "      <td>1385765</td>\n",
       "      <td>1795</td>\n",
       "      <td>0.05</td>\n",
       "    </tr>\n",
       "    <tr>\n",
       "      <th>4702</th>\n",
       "      <td>1396871</td>\n",
       "      <td>2134</td>\n",
       "      <td>0.05</td>\n",
       "    </tr>\n",
       "    <tr>\n",
       "      <th>4703</th>\n",
       "      <td>1396871</td>\n",
       "      <td>2134</td>\n",
       "      <td>0.05</td>\n",
       "    </tr>\n",
       "  </tbody>\n",
       "</table>\n",
       "<p>4704 rows × 3 columns</p>\n",
       "</div>"
      ],
      "text/plain": [
       "          mjd   mag  magerr\n",
       "0      291802  1383    0.05\n",
       "1      302001  2057    0.05\n",
       "2      314836  2329    0.05\n",
       "3      325838  3764    0.05\n",
       "4      338535  1653    0.05\n",
       "...       ...   ...     ...\n",
       "4699  1350714  6221    0.05\n",
       "4700  1368298  7331    0.05\n",
       "4701  1385765  1795    0.05\n",
       "4702  1396871  2134    0.05\n",
       "4703  1396871  2134    0.05\n",
       "\n",
       "[4704 rows x 3 columns]"
      ]
     },
     "execution_count": 23,
     "metadata": {},
     "output_type": "execute_result"
    }
   ],
   "source": [
    "data"
   ]
  },
  {
   "cell_type": "code",
   "execution_count": 24,
   "id": "1cbbf9f0",
   "metadata": {},
   "outputs": [
    {
     "name": "stdout",
     "output_type": "stream",
     "text": [
      "Created new file: ./Padded_lc\\lepo10.csv\n",
      "Created new file: ./Padded_lc\\lepo11.csv\n",
      "Created new file: ./Padded_lc\\lepo14.csv\n",
      "Created new file: ./Padded_lc\\lepo15.csv\n",
      "Created new file: ./Padded_lc\\lepo16.csv\n",
      "Created new file: ./Padded_lc\\lepo161.csv\n",
      "Created new file: ./Padded_lc\\lepo17.csv\n",
      "Created new file: ./Padded_lc\\lepo171.csv\n",
      "Created new file: ./Padded_lc\\lepo18.csv\n",
      "Created new file: ./Padded_lc\\lepo181.csv\n",
      "Created new file: ./Padded_lc\\lepo3.csv\n",
      "Created new file: ./Padded_lc\\lepo8.csv\n",
      "Created new file: ./Padded_lc\\lepo81.csv\n",
      "Created new file: ./Padded_lc\\lepo9.csv\n",
      "Created new file: ./Padded_lc\\prijatno10.csv\n",
      "Created new file: ./Padded_lc\\prijatno11.csv\n",
      "Created new file: ./Padded_lc\\prijatno14.csv\n",
      "Created new file: ./Padded_lc\\prijatno15.csv\n",
      "Created new file: ./Padded_lc\\prijatno16.csv\n",
      "Created new file: ./Padded_lc\\prijatno161.csv\n",
      "Created new file: ./Padded_lc\\prijatno17.csv\n",
      "Created new file: ./Padded_lc\\prijatno171.csv\n",
      "Created new file: ./Padded_lc\\prijatno18.csv\n",
      "Created new file: ./Padded_lc\\prijatno181.csv\n",
      "Created new file: ./Padded_lc\\prijatno3.csv\n",
      "Created new file: ./Padded_lc\\prijatno8.csv\n",
      "Created new file: ./Padded_lc\\prijatno81.csv\n",
      "Created new file: ./Padded_lc\\prijatno9.csv\n",
      "Created new file: ./Padded_lc\\privlacno10.csv\n",
      "Created new file: ./Padded_lc\\privlacno11.csv\n",
      "Created new file: ./Padded_lc\\privlacno14.csv\n",
      "Created new file: ./Padded_lc\\privlacno15.csv\n",
      "Created new file: ./Padded_lc\\privlacno16.csv\n",
      "Created new file: ./Padded_lc\\privlacno161.csv\n",
      "Created new file: ./Padded_lc\\privlacno17.csv\n",
      "Created new file: ./Padded_lc\\privlacno171.csv\n",
      "Created new file: ./Padded_lc\\privlacno18.csv\n",
      "Created new file: ./Padded_lc\\privlacno181.csv\n",
      "Created new file: ./Padded_lc\\privlacno3.csv\n",
      "Created new file: ./Padded_lc\\privlacno8.csv\n",
      "Created new file: ./Padded_lc\\privlacno81.csv\n",
      "Created new file: ./Padded_lc\\privlacno9.csv\n",
      "Created new file: ./Padded_lc\\skladno10.csv\n",
      "Created new file: ./Padded_lc\\skladno11.csv\n",
      "Created new file: ./Padded_lc\\skladno14.csv\n",
      "Created new file: ./Padded_lc\\skladno15.csv\n",
      "Created new file: ./Padded_lc\\skladno16.csv\n",
      "Created new file: ./Padded_lc\\skladno161.csv\n",
      "Created new file: ./Padded_lc\\skladno17.csv\n",
      "Created new file: ./Padded_lc\\skladno171.csv\n",
      "Created new file: ./Padded_lc\\skladno18.csv\n",
      "Created new file: ./Padded_lc\\skladno181.csv\n",
      "Created new file: ./Padded_lc\\skladno3.csv\n",
      "Created new file: ./Padded_lc\\skladno8.csv\n",
      "Created new file: ./Padded_lc\\skladno81.csv\n",
      "Created new file: ./Padded_lc\\skladno9.csv\n"
     ]
    }
   ],
   "source": [
    "# Padding the light curves\n",
    "# We added the function for backward padding the curves with last observed value\n",
    "# The length for padding should remain 100 or above \n",
    "\n",
    "padding= pr.backward_pad_curves('./timeseries', './Padded_lc', desired_observations=100)"
   ]
  },
  {
   "cell_type": "code",
   "execution_count": 25,
   "id": "07418c79",
   "metadata": {},
   "outputs": [],
   "source": [
    "#Path to Padded Data\n",
    "DATA_SRC = \"./Padded_lc\" \n",
    "#path to folder to save preproc data (transformed data) + errors\n",
    "DATA_DST = \"./preproc\" "
   ]
  },
  {
   "cell_type": "code",
   "execution_count": 26,
   "id": "fd252941",
   "metadata": {},
   "outputs": [],
   "source": [
    "#listing the data that are going to be transformed. \n",
    "#In case that your original data is in one table, this is not needed\n",
    "files = os.listdir(DATA_SRC) "
   ]
  },
  {
   "cell_type": "code",
   "execution_count": 27,
   "id": "61b408ac",
   "metadata": {},
   "outputs": [],
   "source": [
    "#running the transformation function\n",
    "number_of_points, trcoeff = pr.transform_and_save(files, DATA_SRC, DATA_DST, transform)"
   ]
  },
  {
   "cell_type": "code",
   "execution_count": null,
   "id": "d9e3df05",
   "metadata": {},
   "outputs": [],
   "source": []
  }
 ],
 "metadata": {
  "kernelspec": {
   "display_name": "Python 3 (ipykernel)",
   "language": "python",
   "name": "python3"
  },
  "language_info": {
   "codemirror_mode": {
    "name": "ipython",
    "version": 3
   },
   "file_extension": ".py",
   "mimetype": "text/x-python",
   "name": "python",
   "nbconvert_exporter": "python",
   "pygments_lexer": "ipython3",
   "version": "3.9.13"
  }
 },
 "nbformat": 4,
 "nbformat_minor": 5
}
