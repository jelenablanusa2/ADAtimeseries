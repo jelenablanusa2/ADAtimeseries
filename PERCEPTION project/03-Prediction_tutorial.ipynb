{
 "cells": [
  {
   "cell_type": "markdown",
   "id": "25802435",
   "metadata": {},
   "source": [
    "# Prediction "
   ]
  },
  {
   "cell_type": "markdown",
   "id": "a54e796d",
   "metadata": {},
   "source": [
    "Before running this script, you must create the following folders in the directory where your Python notebook is located:\n",
    "1. ./output/predictions/train/plots -- folder for saving training plots\n",
    "2. ./output/predictions/test/plots -- folder for saving test plots \n",
    "3. ./output/predictions/val/plots -- folder for saving validation plots\n",
    "4. ./output/predictions/train/data -- folder for sving train data\n",
    "5. ./output/predictions/test/data -- folder for saving test data\n",
    "6. ./output/predictions/val/data -- folder for saving val data"
   ]
  },
  {
   "cell_type": "code",
   "execution_count": 20,
   "id": "737747fd",
   "metadata": {},
   "outputs": [],
   "source": [
    "#### EDIT ####\n",
    "#### checking if folders exist ##### and making new ones if not #####\n",
    "#### EDIT ####\n",
    "\n",
    "import os\n",
    "folders_needed = ['./output/predictions/train/plots', './output/predictions/test/plots', './output/predictions/val/plots', \n",
    "                  './output/predictions/train/data', './output/predictions/test/data', './output/predictions/val/data']\n",
    "\n",
    "for folder in folders_needed:\n",
    "    if not os.path.exists(folder):\n",
    "        os.makedirs(folder)\n",
    "    else: \n",
    "        print (f'- Folder - {folder} - already exists')"
   ]
  },
  {
   "cell_type": "code",
   "execution_count": 21,
   "id": "0f2ecec2",
   "metadata": {},
   "outputs": [],
   "source": [
    "import QNPy #Importing the package\n",
    "from QNPy import PREDICTION as pr #Importing PREDICTION module from the package\n",
    "from QNPy.PREDICTION import * #Importing all packages from PREDICTION module\n",
    "from QNPy.PREDICTION import plot_function #The functions plot_function must be imported separately"
   ]
  },
  {
   "cell_type": "code",
   "execution_count": 22,
   "id": "b484e3b7",
   "metadata": {},
   "outputs": [
    {
     "data": {
      "text/plain": [
       "device(type='cpu')"
      ]
     },
     "execution_count": 22,
     "metadata": {},
     "output_type": "execute_result"
    }
   ],
   "source": [
    "#defining the device, it can be cpu of cuda\n",
    "device = torch.device(\"cuda\" if torch.cuda.is_available() else \"cpu\")\n",
    "device"
   ]
  },
  {
   "cell_type": "code",
   "execution_count": 23,
   "id": "2c539d98",
   "metadata": {},
   "outputs": [],
   "source": [
    "DATA_PATH_TRAIN = \"./dataset/train\" #path to train folder\n",
    "DATA_PATH_VAL = \"./dataset/val\" #path to val folder\n",
    "DATA_PATH_TEST=\"./dataset/test\" #path to test folder\n",
    "OUTPUT_PATH = \"./output/predictions\" #path where to save the plots and data\n",
    "\n",
    "MODEL_PATH = \"./output/cnp_model.pth\" #path to saved model"
   ]
  },
  {
   "cell_type": "code",
   "execution_count": 24,
   "id": "41e4f5e4",
   "metadata": {},
   "outputs": [],
   "source": [
    "pr.prepare_output_dir(OUTPUT_PATH)#clearing outputh dir, it can be sciped"
   ]
  },
  {
   "cell_type": "code",
   "execution_count": 25,
   "id": "b5cc49b2",
   "metadata": {},
   "outputs": [],
   "source": [
    "model = pr.load_trained_model(MODEL_PATH, device) #loading the model"
   ]
  },
  {
   "cell_type": "code",
   "execution_count": 26,
   "id": "6fed08cf",
   "metadata": {},
   "outputs": [],
   "source": [
    "criterion, mseMetric= pr.get_criteria()#loading criterion and metrics from model"
   ]
  },
  {
   "cell_type": "code",
   "execution_count": 27,
   "id": "7a57dbc1",
   "metadata": {},
   "outputs": [
    {
     "name": "stdout",
     "output_type": "stream",
     "text": [
      "Removed padding in file: lepo171_original_split19.csv\n",
      "Removed padding in file: lepo8_original_split37.csv\n",
      "Removed padding in file: prijatno11_original_split46.csv\n",
      "Removed padding in file: prijatno161_original_split55.csv\n",
      "Deleted file with 'minus' or 'plus' in the name: prijatno16_minus_split57.csv\n",
      "Removed padding in file: prijatno9_original_split82.csv\n",
      "Deleted file with 'minus' or 'plus' in the name: privlacno10_plus_split86.csv\n",
      "Deleted file with 'minus' or 'plus' in the name: skladno10_plus_split128.csv\n",
      "Deleted file with 'minus' or 'plus' in the name: skladno161_plus_split140.csv\n",
      "Deleted file with 'minus' or 'plus' in the name: skladno16_minus_split141.csv\n",
      "Removed padding in file: skladno171_original_split145.csv\n",
      "Deleted file with 'minus' or 'plus' in the name: skladno9_plus_split167.csv\n"
     ]
    }
   ],
   "source": [
    "#deleting the padded values from test set\n",
    "#deleting the curves that we add with plus and minus errors\n",
    "#filtering the original curves for plotting\n",
    "\n",
    "if __name__ == \"__main__\":\n",
    "    folder_path = \"./dataset/test\"  # Change this to your dataset folder\n",
    "\n",
    "    pr.remove_padded_values_and_filter(folder_path)"
   ]
  },
  {
   "cell_type": "code",
   "execution_count": 28,
   "id": "ce773815",
   "metadata": {},
   "outputs": [
    {
     "name": "stdout",
     "output_type": "stream",
     "text": [
      "Removed padding in file: lepo10_original_split1.csv\n",
      "Deleted file with 'minus' or 'plus' in the name: lepo10_plus_split2.csv\n",
      "Deleted file with 'minus' or 'plus' in the name: lepo11_minus_split3.csv\n",
      "Removed padding in file: lepo11_original_split4.csv\n",
      "Deleted file with 'minus' or 'plus' in the name: lepo11_plus_split5.csv\n",
      "Deleted file with 'minus' or 'plus' in the name: lepo14_minus_split6.csv\n",
      "Removed padding in file: lepo14_original_split7.csv\n",
      "Deleted file with 'minus' or 'plus' in the name: lepo14_plus_split8.csv\n",
      "Deleted file with 'minus' or 'plus' in the name: lepo15_minus_split9.csv\n",
      "Removed padding in file: lepo15_original_split10.csv\n",
      "Deleted file with 'minus' or 'plus' in the name: lepo15_plus_split11.csv\n",
      "Deleted file with 'minus' or 'plus' in the name: lepo161_minus_split12.csv\n",
      "Removed padding in file: lepo161_original_split13.csv\n",
      "Deleted file with 'minus' or 'plus' in the name: lepo161_plus_split14.csv\n",
      "Deleted file with 'minus' or 'plus' in the name: lepo16_minus_split15.csv\n",
      "Removed padding in file: lepo16_original_split16.csv\n",
      "Deleted file with 'minus' or 'plus' in the name: lepo16_plus_split17.csv\n",
      "Deleted file with 'minus' or 'plus' in the name: lepo171_plus_split20.csv\n",
      "Deleted file with 'minus' or 'plus' in the name: lepo17_minus_split21.csv\n",
      "Removed padding in file: lepo17_original_split22.csv\n",
      "Deleted file with 'minus' or 'plus' in the name: lepo181_minus_split24.csv\n",
      "Removed padding in file: lepo181_original_split25.csv\n",
      "Deleted file with 'minus' or 'plus' in the name: lepo181_plus_split26.csv\n",
      "Deleted file with 'minus' or 'plus' in the name: lepo18_minus_split27.csv\n",
      "Removed padding in file: lepo18_original_split28.csv\n",
      "Deleted file with 'minus' or 'plus' in the name: lepo18_plus_split29.csv\n",
      "Deleted file with 'minus' or 'plus' in the name: lepo3_minus_split30.csv\n",
      "Removed padding in file: lepo3_original_split31.csv\n",
      "Deleted file with 'minus' or 'plus' in the name: lepo3_plus_split32.csv\n",
      "Removed padding in file: lepo81_original_split34.csv\n",
      "Deleted file with 'minus' or 'plus' in the name: lepo81_plus_split35.csv\n",
      "Deleted file with 'minus' or 'plus' in the name: lepo8_minus_split36.csv\n",
      "Deleted file with 'minus' or 'plus' in the name: lepo8_plus_split38.csv\n",
      "Deleted file with 'minus' or 'plus' in the name: lepo9_minus_split39.csv\n",
      "Removed padding in file: lepo9_original_split40.csv\n",
      "Deleted file with 'minus' or 'plus' in the name: lepo9_plus_split41.csv\n",
      "Deleted file with 'minus' or 'plus' in the name: prijatno10_minus_split42.csv\n",
      "Removed padding in file: prijatno10_original_split43.csv\n",
      "Deleted file with 'minus' or 'plus' in the name: prijatno10_plus_split44.csv\n",
      "Deleted file with 'minus' or 'plus' in the name: prijatno11_minus_split45.csv\n",
      "Deleted file with 'minus' or 'plus' in the name: prijatno11_plus_split47.csv\n",
      "Deleted file with 'minus' or 'plus' in the name: prijatno14_minus_split48.csv\n",
      "Removed padding in file: prijatno14_original_split49.csv\n",
      "Deleted file with 'minus' or 'plus' in the name: prijatno14_plus_split50.csv\n",
      "Deleted file with 'minus' or 'plus' in the name: prijatno15_minus_split51.csv\n",
      "Removed padding in file: prijatno15_original_split52.csv\n",
      "Deleted file with 'minus' or 'plus' in the name: prijatno15_plus_split53.csv\n",
      "Deleted file with 'minus' or 'plus' in the name: prijatno161_minus_split54.csv\n",
      "Deleted file with 'minus' or 'plus' in the name: prijatno161_plus_split56.csv\n",
      "Removed padding in file: prijatno16_original_split58.csv\n",
      "Deleted file with 'minus' or 'plus' in the name: prijatno16_plus_split59.csv\n",
      "Deleted file with 'minus' or 'plus' in the name: prijatno171_minus_split60.csv\n",
      "Removed padding in file: prijatno171_original_split61.csv\n",
      "Deleted file with 'minus' or 'plus' in the name: prijatno171_plus_split62.csv\n",
      "Deleted file with 'minus' or 'plus' in the name: prijatno17_minus_split63.csv\n",
      "Removed padding in file: prijatno17_original_split64.csv\n",
      "Deleted file with 'minus' or 'plus' in the name: prijatno17_plus_split65.csv\n",
      "Deleted file with 'minus' or 'plus' in the name: prijatno181_minus_split66.csv\n",
      "Removed padding in file: prijatno181_original_split67.csv\n",
      "Deleted file with 'minus' or 'plus' in the name: prijatno181_plus_split68.csv\n",
      "Deleted file with 'minus' or 'plus' in the name: prijatno18_minus_split69.csv\n",
      "Removed padding in file: prijatno18_original_split70.csv\n",
      "Deleted file with 'minus' or 'plus' in the name: prijatno18_plus_split71.csv\n",
      "Deleted file with 'minus' or 'plus' in the name: prijatno3_minus_split72.csv\n",
      "Removed padding in file: prijatno3_original_split73.csv\n",
      "Deleted file with 'minus' or 'plus' in the name: prijatno3_plus_split74.csv\n",
      "Deleted file with 'minus' or 'plus' in the name: prijatno81_minus_split75.csv\n",
      "Removed padding in file: prijatno81_original_split76.csv\n",
      "Deleted file with 'minus' or 'plus' in the name: prijatno81_plus_split77.csv\n",
      "Deleted file with 'minus' or 'plus' in the name: prijatno8_minus_split78.csv\n",
      "Removed padding in file: prijatno8_original_split79.csv\n",
      "Deleted file with 'minus' or 'plus' in the name: prijatno8_plus_split80.csv\n",
      "Deleted file with 'minus' or 'plus' in the name: prijatno9_minus_split81.csv\n",
      "Deleted file with 'minus' or 'plus' in the name: prijatno9_plus_split83.csv\n",
      "Deleted file with 'minus' or 'plus' in the name: privlacno10_minus_split84.csv\n",
      "Removed padding in file: privlacno10_original_split85.csv\n",
      "Deleted file with 'minus' or 'plus' in the name: privlacno11_minus_split87.csv\n",
      "Removed padding in file: privlacno11_original_split88.csv\n",
      "Deleted file with 'minus' or 'plus' in the name: privlacno11_plus_split89.csv\n",
      "Deleted file with 'minus' or 'plus' in the name: privlacno14_minus_split90.csv\n",
      "Removed padding in file: privlacno14_original_split91.csv\n",
      "Deleted file with 'minus' or 'plus' in the name: privlacno14_plus_split92.csv\n",
      "Deleted file with 'minus' or 'plus' in the name: privlacno15_minus_split93.csv\n",
      "Removed padding in file: privlacno15_original_split94.csv\n",
      "Deleted file with 'minus' or 'plus' in the name: privlacno15_plus_split95.csv\n",
      "Deleted file with 'minus' or 'plus' in the name: privlacno161_minus_split96.csv\n",
      "Removed padding in file: privlacno161_original_split97.csv\n",
      "Deleted file with 'minus' or 'plus' in the name: privlacno161_plus_split98.csv\n",
      "Deleted file with 'minus' or 'plus' in the name: privlacno16_minus_split99.csv\n",
      "Removed padding in file: privlacno16_original_split100.csv\n",
      "Deleted file with 'minus' or 'plus' in the name: privlacno16_plus_split101.csv\n",
      "Deleted file with 'minus' or 'plus' in the name: privlacno171_minus_split102.csv\n",
      "Removed padding in file: privlacno171_original_split103.csv\n",
      "Deleted file with 'minus' or 'plus' in the name: privlacno171_plus_split104.csv\n",
      "Deleted file with 'minus' or 'plus' in the name: privlacno17_minus_split105.csv\n",
      "Removed padding in file: privlacno17_original_split106.csv\n",
      "Deleted file with 'minus' or 'plus' in the name: privlacno181_plus_split110.csv\n",
      "Deleted file with 'minus' or 'plus' in the name: privlacno18_minus_split111.csv\n",
      "Removed padding in file: privlacno18_original_split112.csv\n",
      "Deleted file with 'minus' or 'plus' in the name: privlacno18_plus_split113.csv\n",
      "Deleted file with 'minus' or 'plus' in the name: privlacno3_minus_split114.csv\n",
      "Removed padding in file: privlacno3_original_split115.csv\n",
      "Deleted file with 'minus' or 'plus' in the name: privlacno3_plus_split116.csv\n",
      "Deleted file with 'minus' or 'plus' in the name: privlacno81_minus_split117.csv\n",
      "Removed padding in file: privlacno81_original_split118.csv\n",
      "Deleted file with 'minus' or 'plus' in the name: privlacno81_plus_split119.csv\n",
      "Deleted file with 'minus' or 'plus' in the name: privlacno8_minus_split120.csv\n",
      "Removed padding in file: privlacno8_original_split121.csv\n",
      "Deleted file with 'minus' or 'plus' in the name: privlacno8_plus_split122.csv\n",
      "Deleted file with 'minus' or 'plus' in the name: privlacno9_minus_split123.csv\n",
      "Removed padding in file: privlacno9_original_split124.csv\n",
      "Deleted file with 'minus' or 'plus' in the name: privlacno9_plus_split125.csv\n",
      "Removed padding in file: skladno10_original_split127.csv\n",
      "Removed padding in file: skladno11_original_split130.csv\n",
      "Deleted file with 'minus' or 'plus' in the name: skladno14_minus_split132.csv\n",
      "Removed padding in file: skladno14_original_split133.csv\n",
      "Deleted file with 'minus' or 'plus' in the name: skladno14_plus_split134.csv\n",
      "Deleted file with 'minus' or 'plus' in the name: skladno15_minus_split135.csv\n",
      "Removed padding in file: skladno15_original_split136.csv\n",
      "Deleted file with 'minus' or 'plus' in the name: skladno15_plus_split137.csv\n",
      "Deleted file with 'minus' or 'plus' in the name: skladno161_minus_split138.csv\n",
      "Removed padding in file: skladno161_original_split139.csv\n",
      "Removed padding in file: skladno16_original_split142.csv\n",
      "Deleted file with 'minus' or 'plus' in the name: skladno16_plus_split143.csv\n",
      "Deleted file with 'minus' or 'plus' in the name: skladno171_minus_split144.csv\n",
      "Deleted file with 'minus' or 'plus' in the name: skladno171_plus_split146.csv\n",
      "Deleted file with 'minus' or 'plus' in the name: skladno17_minus_split147.csv\n",
      "Removed padding in file: skladno17_original_split148.csv\n",
      "Deleted file with 'minus' or 'plus' in the name: skladno17_plus_split149.csv\n",
      "Deleted file with 'minus' or 'plus' in the name: skladno181_minus_split150.csv\n",
      "Removed padding in file: skladno181_original_split151.csv\n",
      "Deleted file with 'minus' or 'plus' in the name: skladno181_plus_split152.csv\n",
      "Deleted file with 'minus' or 'plus' in the name: skladno18_minus_split153.csv\n",
      "Removed padding in file: skladno18_original_split154.csv\n",
      "Deleted file with 'minus' or 'plus' in the name: skladno18_plus_split155.csv\n",
      "Deleted file with 'minus' or 'plus' in the name: skladno3_minus_split156.csv\n",
      "Removed padding in file: skladno3_original_split157.csv\n",
      "Deleted file with 'minus' or 'plus' in the name: skladno3_plus_split158.csv\n",
      "Removed padding in file: skladno81_original_split160.csv\n",
      "Deleted file with 'minus' or 'plus' in the name: skladno8_minus_split162.csv\n",
      "Removed padding in file: skladno8_original_split163.csv\n",
      "Deleted file with 'minus' or 'plus' in the name: skladno8_plus_split164.csv\n",
      "Removed padding in file: skladno9_original_split166.csv\n"
     ]
    }
   ],
   "source": [
    "#deleting the padded values from train set\n",
    "#deleting the curves that we add with plus and minus errors\n",
    "#filtering the original curves for plotting\n",
    "\n",
    "if __name__ == \"__main__\":\n",
    "    folder_path = \"./dataset/train\"  # Change this to your dataset folder\n",
    "\n",
    "    pr.remove_padded_values_and_filter(folder_path)"
   ]
  },
  {
   "cell_type": "code",
   "execution_count": 30,
   "id": "84a5975e",
   "metadata": {},
   "outputs": [
    {
     "name": "stdout",
     "output_type": "stream",
     "text": [
      "Removed padding in file: privlacno181_original_split109.csv\n"
     ]
    }
   ],
   "source": [
    "#deleting the padded values from val set\n",
    "#deleting the curves that we add with plus and minus errors\n",
    "#filtering the original curves for plotting\n",
    "\n",
    "if __name__ == \"__main__\":\n",
    "    folder_path = \"./dataset/val\"  # Change this to your dataset folder\n",
    "\n",
    "    pr.remove_padded_values_and_filter(folder_path)"
   ]
  },
  {
   "cell_type": "code",
   "execution_count": 31,
   "id": "cf6d3be0",
   "metadata": {},
   "outputs": [],
   "source": [
    "testLoader=pr.load_test_data(DATA_PATH_TEST)#loading test data"
   ]
  },
  {
   "cell_type": "code",
   "execution_count": 32,
   "id": "e67edc39",
   "metadata": {},
   "outputs": [],
   "source": [
    "trainLoader=pr.load_train_data(DATA_PATH_TRAIN)#loading trained data"
   ]
  },
  {
   "cell_type": "code",
   "execution_count": 33,
   "id": "717906f7",
   "metadata": {},
   "outputs": [],
   "source": [
    "valLoader=pr.load_val_data(DATA_PATH_VAL)#loading validation data"
   ]
  },
  {
   "cell_type": "code",
   "execution_count": 34,
   "id": "fae77b66",
   "metadata": {},
   "outputs": [
    {
     "name": "stderr",
     "output_type": "stream",
     "text": [
      "100%|████████████████████████████████████████████████████████████████████████████████████| 6/6 [00:02<00:00,  2.37it/s]\n"
     ]
    },
    {
     "data": {
      "text/plain": [
       "<Figure size 640x480 with 0 Axes>"
      ]
     },
     "metadata": {},
     "output_type": "display_data"
    }
   ],
   "source": [
    "#prediction and plotting the test data\n",
    "testMetrics=pr.plot_light_curves_from_test_set(model, testLoader, criterion, mseMetric, plot_function, device)"
   ]
  },
  {
   "cell_type": "code",
   "execution_count": 35,
   "id": "b9d0fcf8",
   "metadata": {},
   "outputs": [],
   "source": [
    "saveTestMetric=pr.save_test_metrics('./output/predictions/', testMetrics)#saving the test Metrics"
   ]
  },
  {
   "cell_type": "code",
   "execution_count": 36,
   "id": "20d64c3e",
   "metadata": {},
   "outputs": [
    {
     "name": "stderr",
     "output_type": "stream",
     "text": [
      "100%|██████████████████████████████████████████████████████████████████████████████████| 49/49 [00:17<00:00,  2.73it/s]\n"
     ]
    },
    {
     "data": {
      "text/plain": [
       "<Figure size 640x480 with 0 Axes>"
      ]
     },
     "metadata": {},
     "output_type": "display_data"
    }
   ],
   "source": [
    "#prediction and plotting the train data\n",
    "trainMetrics=pr.plot_light_curves_from_train_set(trainLoader, model, criterion, mseMetric, plot_function, device)"
   ]
  },
  {
   "cell_type": "code",
   "execution_count": 37,
   "id": "fb63ecaf",
   "metadata": {},
   "outputs": [],
   "source": [
    "saveTrainMetric=pr.save_train_metrics('./output/predictions/', trainMetrics)#saving the train metrics \n",
    "\n",
    "#### EDIT #####\n",
    "### variable trainMetric is changed to trainMetrics ###"
   ]
  },
  {
   "cell_type": "code",
   "execution_count": 38,
   "id": "a39ffd72",
   "metadata": {},
   "outputs": [
    {
     "name": "stderr",
     "output_type": "stream",
     "text": [
      "100%|████████████████████████████████████████████████████████████████████████████████████| 1/1 [00:00<00:00,  2.21it/s]\n"
     ]
    },
    {
     "data": {
      "text/plain": [
       "<Figure size 640x480 with 0 Axes>"
      ]
     },
     "metadata": {},
     "output_type": "display_data"
    }
   ],
   "source": [
    "#prediction and plotting the val data\n",
    "valMetric=pr.plot_light_curves_from_val_set(model, valLoader, criterion, mseMetric, plot_function, device)"
   ]
  },
  {
   "cell_type": "code",
   "execution_count": 39,
   "id": "f4b660c2",
   "metadata": {},
   "outputs": [],
   "source": [
    "saveValMetrics=pr.save_val_metrics('./output/predictions/', valMetric)#saving the val metrics "
   ]
  },
  {
   "cell_type": "code",
   "execution_count": null,
   "id": "7fd500e8",
   "metadata": {},
   "outputs": [],
   "source": []
  }
 ],
 "metadata": {
  "kernelspec": {
   "display_name": "Python 3 (ipykernel)",
   "language": "python",
   "name": "python3"
  },
  "language_info": {
   "codemirror_mode": {
    "name": "ipython",
    "version": 3
   },
   "file_extension": ".py",
   "mimetype": "text/x-python",
   "name": "python",
   "nbconvert_exporter": "python",
   "pygments_lexer": "ipython3",
   "version": "3.9.13"
  }
 },
 "nbformat": 4,
 "nbformat_minor": 5
}
